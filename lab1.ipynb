{
 "cells": [
  {
   "cell_type": "markdown",
   "metadata": {},
   "source": [
    "IMPORTING LIBRARIES"
   ]
  },
  {
   "cell_type": "code",
   "execution_count": 1,
   "metadata": {},
   "outputs": [],
   "source": [
    "from numpy import *"
   ]
  },
  {
   "cell_type": "markdown",
   "metadata": {},
   "source": [
    "CREATING ROW AND COLUMN VECTOR AND SHOWING THEIR SHAPE"
   ]
  },
  {
   "cell_type": "code",
   "execution_count": 2,
   "metadata": {},
   "outputs": [
    {
     "name": "stdout",
     "output_type": "stream",
     "text": [
      "(1, 5)\n",
      "(4, 1)\n"
     ]
    }
   ],
   "source": [
    "vector_row = array([[1,-5,3,2,4]])\n",
    "vector_column = array([[1],[2],[3],[4]])\n",
    "print(vector_row.shape)\n",
    "print(vector_column.shape)"
   ]
  },
  {
   "cell_type": "code",
   "execution_count": 5,
   "metadata": {},
   "outputs": [
    {
     "name": "stdout",
     "output_type": "stream",
     "text": [
      "(3, 3)\n",
      "(2, 2)\n"
     ]
    }
   ],
   "source": [
    "v_row = array([[1,2,3],[4,5,6],[7,8,9]])\n",
    "v_colunm = array([[9,8],[7,6]])\n",
    "print(v_row.shape)\n",
    "print(v_colunm.shape)"
   ]
  },
  {
   "cell_type": "code",
   "execution_count": 7,
   "metadata": {},
   "outputs": [],
   "source": [
    "from numpy.linalg import norm"
   ]
  },
  {
   "cell_type": "markdown",
   "metadata": {},
   "source": [
    "Transpose of a Vector"
   ]
  },
  {
   "cell_type": "code",
   "execution_count": 8,
   "metadata": {},
   "outputs": [
    {
     "name": "stdout",
     "output_type": "stream",
     "text": [
      "[[ 1 -5  3  2  4]]\n",
      "L_1 is: 5.0\n",
      "L_2 is: 7.4\n",
      "L_inf is: 15.0\n"
     ]
    }
   ],
   "source": [
    "new_vector = vector_row\n",
    "print(new_vector)\n",
    "norm_1 = norm(new_vector, 1)\n",
    "norm_2 = norm(new_vector, 2)\n",
    "norm_inf = norm(new_vector, inf)\n",
    "print(\"L_1 is: %.1f\"%norm_1)\n",
    "print(\"L_2 is: %.1f\"%norm_2)\n",
    "print(\"L_inf is: %.1f\"%norm_inf)"
   ]
  },
  {
   "cell_type": "markdown",
   "metadata": {},
   "source": [
    "DOT PRODUCT"
   ]
  },
  {
   "cell_type": "code",
   "execution_count": 9,
   "metadata": {},
   "outputs": [
    {
     "name": "stdout",
     "output_type": "stream",
     "text": [
      "[[0.97992471]]\n"
     ]
    }
   ],
   "source": [
    "#FINDING ANGLE BETWEEN TWO VECTORS USING DOT PRODUCT\n",
    "v = array([[10, 9, 3]])\n",
    "w = array([[2, 5, 12]])\n",
    "theta = arccos(dot(v, w.T)/(norm(v)*norm(w)))\n",
    "print(theta)"
   ]
  },
  {
   "cell_type": "markdown",
   "metadata": {},
   "source": [
    "CROSS PRODUCT"
   ]
  },
  {
   "cell_type": "code",
   "execution_count": 10,
   "metadata": {},
   "outputs": [
    {
     "name": "stdout",
     "output_type": "stream",
     "text": [
      "[[ 0  0 -6]]\n"
     ]
    }
   ],
   "source": [
    "v = array([[0, 2, 0]])\n",
    "w = array([[3, 0, 0]])\n",
    "print(cross(v, w))"
   ]
  },
  {
   "cell_type": "markdown",
   "metadata": {},
   "source": [
    "MATRICES"
   ]
  },
  {
   "cell_type": "code",
   "execution_count": 15,
   "metadata": {},
   "outputs": [
    {
     "name": "stdout",
     "output_type": "stream",
     "text": [
      "[[1 7]\n",
      " [2 3]\n",
      " [5 0]\n",
      " [7 7]]\n",
      "[[2 6 3 1]\n",
      " [1 2 3 4]]\n",
      "[[ 9 20 24 29]\n",
      " [ 7 18 15 14]\n",
      " [10 30 15  5]\n",
      " [21 56 42 35]]\n",
      "[[36 39]\n",
      " [48 41]]\n"
     ]
    }
   ],
   "source": [
    "P = array([[1, 7], [2, 3], [5, 0], [7,7]])\n",
    "Q = array([[2, 6, 3, 1], [1, 2, 3, 4]])\n",
    "print(P)\n",
    "print(Q)\n",
    "print(dot(P, Q))\n",
    "print(dot(Q, P))"
   ]
  },
  {
   "cell_type": "code",
   "execution_count": 17,
   "metadata": {},
   "outputs": [
    {
     "name": "stdout",
     "output_type": "stream",
     "text": [
      "M :\n",
      " [[0 2 1 3]\n",
      " [3 2 8 1]\n",
      " [1 0 0 3]\n",
      " [0 3 2 1]]\n",
      "Determinant : -38.0\n",
      "I :\n",
      " [[1. 0. 0. 0.]\n",
      " [0. 1. 0. 0.]\n",
      " [0. 0. 1. 0.]\n",
      " [0. 0. 0. 1.]]\n",
      "M*I :\n",
      " [[0. 2. 1. 3.]\n",
      " [3. 2. 8. 1.]\n",
      " [1. 0. 0. 3.]\n",
      " [0. 3. 2. 1.]]\n"
     ]
    }
   ],
   "source": [
    "#SQAURE MATRICES\n",
    "\n",
    "from numpy.linalg import det\n",
    "\n",
    "M = array([[0,2,1,3], [3,2,8,1], [1,0,0,3], [0,3,2,1]])\n",
    "print(\"M :\\n\",M)\n",
    "print(\"Determinant : %.1f\"%det(M))\n",
    "I = eye(4)\n",
    "print(\"I :\\n\",I)\n",
    "print(\"M*I :\\n\", dot(M,I))\n"
   ]
  },
  {
   "cell_type": "code",
   "execution_count": 19,
   "metadata": {},
   "outputs": [
    {
     "name": "stdout",
     "output_type": "stream",
     "text": [
      "Inverse M:\n",
      " [[-1.57894737 -0.07894737  1.23684211  1.10526316]\n",
      " [-0.63157895 -0.13157895  0.39473684  0.84210526]\n",
      " [ 0.68421053  0.18421053 -0.55263158 -0.57894737]\n",
      " [ 0.52631579  0.02631579 -0.07894737 -0.36842105]]\n",
      "Det(p) :\n",
      " 0.0\n"
     ]
    }
   ],
   "source": [
    "#SINGULAR NON SINGULAR MATRICES\n",
    "\n",
    "from numpy.linalg import inv\n",
    "P = array([[0, 1, 0],[0, 0, 0],[1, 0, 1]])\n",
    "print(\"Inverse M:\\n\",inv(M))\n",
    "print(\"Det(p) :\\n\", det(P))"
   ]
  },
  {
   "cell_type": "code",
   "execution_count": 20,
   "metadata": {},
   "outputs": [
    {
     "name": "stdout",
     "output_type": "stream",
     "text": [
      "Condition number:\n",
      " 4.048917339522305\n",
      "Rank:\n",
      " 3\n",
      "Augmented matrix:\n",
      " [[1 1 0 1]\n",
      " [0 1 0 2]\n",
      " [1 0 1 1]]\n"
     ]
    }
   ],
   "source": [
    "#CONDITION NUMBER AND RANK\n",
    "\n",
    "from numpy.linalg import cond, matrix_rank\n",
    "A = array([[1,1,0],\n",
    "[0,1,0],\n",
    "[1,0,1]])\n",
    "\n",
    "print(\"Condition number:\\n\", cond(A))\n",
    "print(\"Rank:\\n\", matrix_rank(A))\n",
    "y = array([[1], [2], [1]])\n",
    "A_y = concatenate((A, y), axis = 1)\n",
    "print(\"Augmented matrix:\\n\", A_y)"
   ]
  },
  {
   "cell_type": "markdown",
   "metadata": {},
   "source": [
    "SOLVING LINEAR EQUATIONS"
   ]
  },
  {
   "cell_type": "code",
   "execution_count": 21,
   "metadata": {},
   "outputs": [
    {
     "name": "stdout",
     "output_type": "stream",
     "text": [
      "[ 0.375 -0.75   0.55 ]\n"
     ]
    }
   ],
   "source": [
    "A = array([[4,3,5],[-2,-4,5],[8,8,0]])\n",
    "y = array([2,5,-3])\n",
    "x = linalg.solve(A,y)\n",
    "print(x)"
   ]
  }
 ],
 "metadata": {
  "kernelspec": {
   "display_name": "Python 3.8.8 64-bit",
   "language": "python",
   "name": "python3"
  },
  "language_info": {
   "codemirror_mode": {
    "name": "ipython",
    "version": 3
   },
   "file_extension": ".py",
   "mimetype": "text/x-python",
   "name": "python",
   "nbconvert_exporter": "python",
   "pygments_lexer": "ipython3",
   "version": "3.8.8"
  },
  "orig_nbformat": 4,
  "vscode": {
   "interpreter": {
    "hash": "a65b45e7d56d7c02634b407cb6b216c12087ac0dba301c167b935ceae1030994"
   }
  }
 },
 "nbformat": 4,
 "nbformat_minor": 2
}
