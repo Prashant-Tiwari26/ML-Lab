{
 "cells": [
  {
   "cell_type": "code",
   "execution_count": 57,
   "metadata": {},
   "outputs": [],
   "source": [
    "import pandas as pd\n",
    "import numpy as np\n",
    "import math"
   ]
  },
  {
   "cell_type": "code",
   "execution_count": 58,
   "metadata": {},
   "outputs": [
    {
     "data": {
      "text/html": [
       "<div>\n",
       "<style scoped>\n",
       "    .dataframe tbody tr th:only-of-type {\n",
       "        vertical-align: middle;\n",
       "    }\n",
       "\n",
       "    .dataframe tbody tr th {\n",
       "        vertical-align: top;\n",
       "    }\n",
       "\n",
       "    .dataframe thead th {\n",
       "        text-align: right;\n",
       "    }\n",
       "</style>\n",
       "<table border=\"1\" class=\"dataframe\">\n",
       "  <thead>\n",
       "    <tr style=\"text-align: right;\">\n",
       "      <th></th>\n",
       "      <th>Outlook</th>\n",
       "      <th>Temperature</th>\n",
       "      <th>Humidity</th>\n",
       "      <th>Wind</th>\n",
       "      <th>Decision</th>\n",
       "    </tr>\n",
       "  </thead>\n",
       "  <tbody>\n",
       "    <tr>\n",
       "      <th>0</th>\n",
       "      <td>Sunny</td>\n",
       "      <td>Hot</td>\n",
       "      <td>High</td>\n",
       "      <td>Weak</td>\n",
       "      <td>No</td>\n",
       "    </tr>\n",
       "    <tr>\n",
       "      <th>1</th>\n",
       "      <td>Sunny</td>\n",
       "      <td>Hot</td>\n",
       "      <td>High</td>\n",
       "      <td>Strong</td>\n",
       "      <td>No</td>\n",
       "    </tr>\n",
       "    <tr>\n",
       "      <th>2</th>\n",
       "      <td>Overcast</td>\n",
       "      <td>Hot</td>\n",
       "      <td>High</td>\n",
       "      <td>Weak</td>\n",
       "      <td>Yes</td>\n",
       "    </tr>\n",
       "    <tr>\n",
       "      <th>3</th>\n",
       "      <td>Rain</td>\n",
       "      <td>Mild</td>\n",
       "      <td>High</td>\n",
       "      <td>Weak</td>\n",
       "      <td>Yes</td>\n",
       "    </tr>\n",
       "    <tr>\n",
       "      <th>4</th>\n",
       "      <td>Rain</td>\n",
       "      <td>Cool</td>\n",
       "      <td>Normal</td>\n",
       "      <td>Weak</td>\n",
       "      <td>Yes</td>\n",
       "    </tr>\n",
       "    <tr>\n",
       "      <th>5</th>\n",
       "      <td>Rain</td>\n",
       "      <td>Cool</td>\n",
       "      <td>Normal</td>\n",
       "      <td>Strong</td>\n",
       "      <td>No</td>\n",
       "    </tr>\n",
       "    <tr>\n",
       "      <th>6</th>\n",
       "      <td>Overcast</td>\n",
       "      <td>Cool</td>\n",
       "      <td>Normal</td>\n",
       "      <td>Strong</td>\n",
       "      <td>Yes</td>\n",
       "    </tr>\n",
       "    <tr>\n",
       "      <th>7</th>\n",
       "      <td>Sunny</td>\n",
       "      <td>Mild</td>\n",
       "      <td>High</td>\n",
       "      <td>Weak</td>\n",
       "      <td>No</td>\n",
       "    </tr>\n",
       "    <tr>\n",
       "      <th>8</th>\n",
       "      <td>Sunny</td>\n",
       "      <td>Cool</td>\n",
       "      <td>Normal</td>\n",
       "      <td>Weak</td>\n",
       "      <td>Yes</td>\n",
       "    </tr>\n",
       "    <tr>\n",
       "      <th>9</th>\n",
       "      <td>Rain</td>\n",
       "      <td>Mild</td>\n",
       "      <td>Normal</td>\n",
       "      <td>Weak</td>\n",
       "      <td>Yes</td>\n",
       "    </tr>\n",
       "    <tr>\n",
       "      <th>10</th>\n",
       "      <td>Sunny</td>\n",
       "      <td>Mild</td>\n",
       "      <td>Normal</td>\n",
       "      <td>Strong</td>\n",
       "      <td>Yes</td>\n",
       "    </tr>\n",
       "    <tr>\n",
       "      <th>11</th>\n",
       "      <td>Overcast</td>\n",
       "      <td>Mild</td>\n",
       "      <td>High</td>\n",
       "      <td>Strong</td>\n",
       "      <td>Yes</td>\n",
       "    </tr>\n",
       "    <tr>\n",
       "      <th>12</th>\n",
       "      <td>Overcast</td>\n",
       "      <td>Hot</td>\n",
       "      <td>Normal</td>\n",
       "      <td>Weak</td>\n",
       "      <td>Yes</td>\n",
       "    </tr>\n",
       "    <tr>\n",
       "      <th>13</th>\n",
       "      <td>Rain</td>\n",
       "      <td>Mild</td>\n",
       "      <td>High</td>\n",
       "      <td>Strong</td>\n",
       "      <td>No</td>\n",
       "    </tr>\n",
       "  </tbody>\n",
       "</table>\n",
       "</div>"
      ],
      "text/plain": [
       "     Outlook Temperature Humidity    Wind Decision\n",
       "0      Sunny         Hot     High    Weak       No\n",
       "1      Sunny         Hot     High  Strong       No\n",
       "2   Overcast         Hot     High    Weak      Yes\n",
       "3       Rain        Mild     High    Weak      Yes\n",
       "4       Rain        Cool   Normal    Weak      Yes\n",
       "5       Rain        Cool   Normal  Strong       No\n",
       "6   Overcast        Cool   Normal  Strong      Yes\n",
       "7      Sunny        Mild     High    Weak       No\n",
       "8      Sunny        Cool   Normal    Weak      Yes\n",
       "9       Rain        Mild   Normal    Weak      Yes\n",
       "10     Sunny        Mild   Normal  Strong      Yes\n",
       "11  Overcast        Mild     High  Strong      Yes\n",
       "12  Overcast         Hot   Normal    Weak      Yes\n",
       "13      Rain        Mild     High  Strong       No"
      ]
     },
     "execution_count": 58,
     "metadata": {},
     "output_type": "execute_result"
    }
   ],
   "source": [
    "data = pd.read_csv(\"ML Lab 4 Data - Sheet1.csv\")\n",
    "data = data.drop(['Day'], axis=1)\n",
    "data"
   ]
  },
  {
   "cell_type": "code",
   "execution_count": 59,
   "metadata": {},
   "outputs": [
    {
     "data": {
      "text/plain": [
       "Index(['Outlook', 'Temperature', 'Humidity', 'Wind', 'Decision'], dtype='object')"
      ]
     },
     "execution_count": 59,
     "metadata": {},
     "output_type": "execute_result"
    }
   ],
   "source": [
    "def unique_vals(dataset, col):\n",
    "    return set([row[col] for row in dataset])\n",
    "header = data.columns\n",
    "header"
   ]
  },
  {
   "cell_type": "code",
   "execution_count": 60,
   "metadata": {},
   "outputs": [],
   "source": [
    "data = data.values.tolist()"
   ]
  },
  {
   "cell_type": "code",
   "execution_count": 61,
   "metadata": {},
   "outputs": [
    {
     "data": {
      "text/plain": [
       "[['Sunny', 'Hot', 'High', 'Weak', 'No'],\n",
       " ['Sunny', 'Hot', 'High', 'Strong', 'No'],\n",
       " ['Overcast', 'Hot', 'High', 'Weak', 'Yes'],\n",
       " ['Rain', 'Mild', 'High', 'Weak', 'Yes'],\n",
       " ['Rain', 'Cool', 'Normal', 'Weak', 'Yes'],\n",
       " ['Rain', 'Cool', 'Normal', 'Strong', 'No'],\n",
       " ['Overcast', 'Cool', 'Normal', 'Strong', 'Yes'],\n",
       " ['Sunny', 'Mild', 'High', 'Weak', 'No'],\n",
       " ['Sunny', 'Cool', 'Normal', 'Weak', 'Yes'],\n",
       " ['Rain', 'Mild', 'Normal', 'Weak', 'Yes'],\n",
       " ['Sunny', 'Mild', 'Normal', 'Strong', 'Yes'],\n",
       " ['Overcast', 'Mild', 'High', 'Strong', 'Yes'],\n",
       " ['Overcast', 'Hot', 'Normal', 'Weak', 'Yes'],\n",
       " ['Rain', 'Mild', 'High', 'Strong', 'No']]"
      ]
     },
     "execution_count": 61,
     "metadata": {},
     "output_type": "execute_result"
    }
   ],
   "source": [
    "data"
   ]
  },
  {
   "cell_type": "code",
   "execution_count": 62,
   "metadata": {},
   "outputs": [],
   "source": [
    "def class_counts(dataset):\n",
    "    counts = {}\n",
    "    for row in dataset:\n",
    "        label = row[-1]\n",
    "        if label not in counts:\n",
    "            counts[label] = 0\n",
    "        counts[label] += 1\n",
    "    return counts"
   ]
  },
  {
   "cell_type": "code",
   "execution_count": 63,
   "metadata": {},
   "outputs": [
    {
     "data": {
      "text/plain": [
       "{'No': 5, 'Yes': 9}"
      ]
     },
     "execution_count": 63,
     "metadata": {},
     "output_type": "execute_result"
    }
   ],
   "source": [
    "class_counts(data)"
   ]
  },
  {
   "cell_type": "code",
   "execution_count": 64,
   "metadata": {},
   "outputs": [
    {
     "name": "stdout",
     "output_type": "stream",
     "text": [
      "9\n"
     ]
    }
   ],
   "source": [
    "x = class_counts(data)\n",
    "print(x['Yes'])"
   ]
  },
  {
   "cell_type": "code",
   "execution_count": 65,
   "metadata": {},
   "outputs": [],
   "source": [
    "def is_numeric(value):\n",
    "    return isinstance(value, int) or isinstance(value, float)"
   ]
  },
  {
   "cell_type": "code",
   "execution_count": 66,
   "metadata": {},
   "outputs": [],
   "source": [
    "class Question:\n",
    "    def __init__(self, column, value):\n",
    "        self.column = column\n",
    "        self.value = value\n",
    "\n",
    "    def match(self, example):\n",
    "        val = example[self.column]\n",
    "        if is_numeric(val):\n",
    "            return val >= self.value\n",
    "        else:\n",
    "            return val == self.value\n",
    "\n",
    "    def __repr__(self):\n",
    "        condition = \"==\"\n",
    "        if is_numeric(self.value):\n",
    "            condition = \">=\"\n",
    "        return \"Is %s %s %s?\" % (\n",
    "            header[self.column], condition, str(self.value))"
   ]
  },
  {
   "cell_type": "code",
   "execution_count": 67,
   "metadata": {},
   "outputs": [],
   "source": [
    "def partition(datset, question):\n",
    "    true_rows, false_rows = [], []\n",
    "    for row in datset:\n",
    "        if question.match(row):\n",
    "            true_rows.append(row)\n",
    "        else:\n",
    "            false_rows.append(row)\n",
    "    return true_rows, false_rows"
   ]
  },
  {
   "cell_type": "code",
   "execution_count": 70,
   "metadata": {},
   "outputs": [],
   "source": [
    "def split_dataset(dataset, question):\n",
    "    new_data = []\n",
    "    for row in dataset:\n",
    "        if question.match(row):\n",
    "            new_data.append(row)\n",
    "    new_data = pd.DataFrame(new_data)\n",
    "    new_data.drop(new_data.columns[[question.column]], axis=1, inplace=True)\n",
    "    new_data = new_data.values.tolist()\n",
    "    return new_data"
   ]
  },
  {
   "cell_type": "code",
   "execution_count": 71,
   "metadata": {},
   "outputs": [
    {
     "data": {
      "text/plain": [
       "[['Mild', 'High', 'Weak', 'Yes'],\n",
       " ['Cool', 'Normal', 'Weak', 'Yes'],\n",
       " ['Cool', 'Normal', 'Strong', 'No'],\n",
       " ['Mild', 'Normal', 'Weak', 'Yes'],\n",
       " ['Mild', 'High', 'Strong', 'No']]"
      ]
     },
     "execution_count": 71,
     "metadata": {},
     "output_type": "execute_result"
    }
   ],
   "source": [
    "split_dataset(data, Question(0, 'Rain'))"
   ]
  },
  {
   "cell_type": "code",
   "execution_count": 72,
   "metadata": {},
   "outputs": [
    {
     "data": {
      "text/plain": [
       "[['Sunny', 'Hot', 'High', 'Weak', 'No'],\n",
       " ['Sunny', 'Hot', 'High', 'Strong', 'No'],\n",
       " ['Overcast', 'Hot', 'High', 'Weak', 'Yes'],\n",
       " ['Rain', 'Mild', 'High', 'Weak', 'Yes'],\n",
       " ['Rain', 'Cool', 'Normal', 'Weak', 'Yes'],\n",
       " ['Rain', 'Cool', 'Normal', 'Strong', 'No'],\n",
       " ['Overcast', 'Cool', 'Normal', 'Strong', 'Yes'],\n",
       " ['Sunny', 'Mild', 'High', 'Weak', 'No'],\n",
       " ['Sunny', 'Cool', 'Normal', 'Weak', 'Yes'],\n",
       " ['Rain', 'Mild', 'Normal', 'Weak', 'Yes'],\n",
       " ['Sunny', 'Mild', 'Normal', 'Strong', 'Yes'],\n",
       " ['Overcast', 'Mild', 'High', 'Strong', 'Yes'],\n",
       " ['Overcast', 'Hot', 'Normal', 'Weak', 'Yes'],\n",
       " ['Rain', 'Mild', 'High', 'Strong', 'No']]"
      ]
     },
     "execution_count": 72,
     "metadata": {},
     "output_type": "execute_result"
    }
   ],
   "source": [
    "data"
   ]
  },
  {
   "cell_type": "code",
   "execution_count": 73,
   "metadata": {},
   "outputs": [
    {
     "data": {
      "text/plain": [
       "5"
      ]
     },
     "execution_count": 73,
     "metadata": {},
     "output_type": "execute_result"
    }
   ],
   "source": [
    "len(split_dataset(data, Question(0, 'Rain')))"
   ]
  },
  {
   "cell_type": "code",
   "execution_count": 74,
   "metadata": {},
   "outputs": [
    {
     "data": {
      "text/plain": [
       "{'Yes': 3, 'No': 2}"
      ]
     },
     "execution_count": 74,
     "metadata": {},
     "output_type": "execute_result"
    }
   ],
   "source": [
    "z = split_dataset(data, Question(0, 'Rain'))\n",
    "class_counts(z)"
   ]
  },
  {
   "cell_type": "code",
   "execution_count": 75,
   "metadata": {},
   "outputs": [],
   "source": [
    "def entropy(dataset):\n",
    "    counts = class_counts(dataset)\n",
    "    entrop = 0\n",
    "    for lbl in counts:\n",
    "        entrop -= counts[lbl]/float(len(dataset))*math.log2(counts[lbl]/float(len(dataset)))\n",
    "    return entrop"
   ]
  },
  {
   "cell_type": "code",
   "execution_count": 76,
   "metadata": {},
   "outputs": [
    {
     "data": {
      "text/plain": [
       "0.9402859586706311"
      ]
     },
     "execution_count": 76,
     "metadata": {},
     "output_type": "execute_result"
    }
   ],
   "source": [
    "current_entropy = entropy(data)\n",
    "current_entropy"
   ]
  },
  {
   "cell_type": "code",
   "execution_count": 77,
   "metadata": {},
   "outputs": [],
   "source": [
    "def info_gain(dataset, att_index):\n",
    "    current_entropy = entropy(dataset)\n",
    "    information_gain = current_entropy\n",
    "    values = unique_vals(dataset, att_index)\n",
    "    for val in values:\n",
    "        new_data = split_dataset(dataset, Question(att_index, val))\n",
    "        en_nd = entropy(new_data)\n",
    "        information_gain -= ((len(new_data)/float(len(dataset)))*en_nd)\n",
    "    return information_gain\n",
    "            "
   ]
  },
  {
   "cell_type": "code",
   "execution_count": 78,
   "metadata": {},
   "outputs": [
    {
     "data": {
      "text/plain": [
       "0.24674981977443933"
      ]
     },
     "execution_count": 78,
     "metadata": {},
     "output_type": "execute_result"
    }
   ],
   "source": [
    "info_gain(data, 0)"
   ]
  },
  {
   "cell_type": "code",
   "execution_count": 79,
   "metadata": {},
   "outputs": [
    {
     "data": {
      "text/plain": [
       "0.02922256565895487"
      ]
     },
     "execution_count": 79,
     "metadata": {},
     "output_type": "execute_result"
    }
   ],
   "source": [
    "info_gain(data,1)"
   ]
  },
  {
   "cell_type": "code",
   "execution_count": 80,
   "metadata": {},
   "outputs": [
    {
     "data": {
      "text/plain": [
       "0.15183550136234159"
      ]
     },
     "execution_count": 80,
     "metadata": {},
     "output_type": "execute_result"
    }
   ],
   "source": [
    "info_gain(data,2)"
   ]
  },
  {
   "cell_type": "code",
   "execution_count": 81,
   "metadata": {},
   "outputs": [],
   "source": [
    "def find_best_split(dataset):\n",
    "    best_gain = 0\n",
    "    best_index = None\n",
    "    n_features = len(dataset)-1\n",
    "    for col in range(n_features):\n",
    "        ig = info_gain(dataset, col)\n",
    "        if ig > best_gain:\n",
    "            best_gain = ig\n",
    "            best_index = col\n",
    "    return best_gain, best_index"
   ]
  },
  {
   "cell_type": "code",
   "execution_count": 82,
   "metadata": {},
   "outputs": [
    {
     "ename": "IndexError",
     "evalue": "list index out of range",
     "output_type": "error",
     "traceback": [
      "\u001b[1;31m---------------------------------------------------------------------------\u001b[0m",
      "\u001b[1;31mIndexError\u001b[0m                                Traceback (most recent call last)",
      "\u001b[1;32mc:\\College\\ML Lab\\lab4b.ipynb Cell 24\u001b[0m in \u001b[0;36m<cell line: 1>\u001b[1;34m()\u001b[0m\n\u001b[1;32m----> <a href='vscode-notebook-cell:/c%3A/College/ML%20Lab/lab4b.ipynb#X63sZmlsZQ%3D%3D?line=0'>1</a>\u001b[0m best_gain, best_index \u001b[39m=\u001b[39m find_best_split(data)\n\u001b[0;32m      <a href='vscode-notebook-cell:/c%3A/College/ML%20Lab/lab4b.ipynb#X63sZmlsZQ%3D%3D?line=1'>2</a>\u001b[0m \u001b[39mprint\u001b[39m(best_gain)\n\u001b[0;32m      <a href='vscode-notebook-cell:/c%3A/College/ML%20Lab/lab4b.ipynb#X63sZmlsZQ%3D%3D?line=2'>3</a>\u001b[0m \u001b[39mprint\u001b[39m(best_index)\n",
      "\u001b[1;32mc:\\College\\ML Lab\\lab4b.ipynb Cell 24\u001b[0m in \u001b[0;36mfind_best_split\u001b[1;34m(dataset)\u001b[0m\n\u001b[0;32m      <a href='vscode-notebook-cell:/c%3A/College/ML%20Lab/lab4b.ipynb#X63sZmlsZQ%3D%3D?line=3'>4</a>\u001b[0m n_features \u001b[39m=\u001b[39m \u001b[39mlen\u001b[39m(dataset)\u001b[39m-\u001b[39m\u001b[39m1\u001b[39m\n\u001b[0;32m      <a href='vscode-notebook-cell:/c%3A/College/ML%20Lab/lab4b.ipynb#X63sZmlsZQ%3D%3D?line=4'>5</a>\u001b[0m \u001b[39mfor\u001b[39;00m col \u001b[39min\u001b[39;00m \u001b[39mrange\u001b[39m(n_features):\n\u001b[1;32m----> <a href='vscode-notebook-cell:/c%3A/College/ML%20Lab/lab4b.ipynb#X63sZmlsZQ%3D%3D?line=5'>6</a>\u001b[0m     ig \u001b[39m=\u001b[39m info_gain(dataset, col)\n\u001b[0;32m      <a href='vscode-notebook-cell:/c%3A/College/ML%20Lab/lab4b.ipynb#X63sZmlsZQ%3D%3D?line=6'>7</a>\u001b[0m     \u001b[39mif\u001b[39;00m ig \u001b[39m>\u001b[39m best_gain:\n\u001b[0;32m      <a href='vscode-notebook-cell:/c%3A/College/ML%20Lab/lab4b.ipynb#X63sZmlsZQ%3D%3D?line=7'>8</a>\u001b[0m         best_gain \u001b[39m=\u001b[39m ig\n",
      "\u001b[1;32mc:\\College\\ML Lab\\lab4b.ipynb Cell 24\u001b[0m in \u001b[0;36minfo_gain\u001b[1;34m(dataset, att_index)\u001b[0m\n\u001b[0;32m      <a href='vscode-notebook-cell:/c%3A/College/ML%20Lab/lab4b.ipynb#X63sZmlsZQ%3D%3D?line=1'>2</a>\u001b[0m current_entropy \u001b[39m=\u001b[39m entropy(dataset)\n\u001b[0;32m      <a href='vscode-notebook-cell:/c%3A/College/ML%20Lab/lab4b.ipynb#X63sZmlsZQ%3D%3D?line=2'>3</a>\u001b[0m information_gain \u001b[39m=\u001b[39m current_entropy\n\u001b[1;32m----> <a href='vscode-notebook-cell:/c%3A/College/ML%20Lab/lab4b.ipynb#X63sZmlsZQ%3D%3D?line=3'>4</a>\u001b[0m values \u001b[39m=\u001b[39m unique_vals(dataset, att_index)\n\u001b[0;32m      <a href='vscode-notebook-cell:/c%3A/College/ML%20Lab/lab4b.ipynb#X63sZmlsZQ%3D%3D?line=4'>5</a>\u001b[0m \u001b[39mfor\u001b[39;00m val \u001b[39min\u001b[39;00m values:\n\u001b[0;32m      <a href='vscode-notebook-cell:/c%3A/College/ML%20Lab/lab4b.ipynb#X63sZmlsZQ%3D%3D?line=5'>6</a>\u001b[0m     new_data \u001b[39m=\u001b[39m split_dataset(dataset, Question(att_index, val))\n",
      "\u001b[1;32mc:\\College\\ML Lab\\lab4b.ipynb Cell 24\u001b[0m in \u001b[0;36munique_vals\u001b[1;34m(dataset, col)\u001b[0m\n\u001b[0;32m      <a href='vscode-notebook-cell:/c%3A/College/ML%20Lab/lab4b.ipynb#X63sZmlsZQ%3D%3D?line=0'>1</a>\u001b[0m \u001b[39mdef\u001b[39;00m \u001b[39munique_vals\u001b[39m(dataset, col):\n\u001b[1;32m----> <a href='vscode-notebook-cell:/c%3A/College/ML%20Lab/lab4b.ipynb#X63sZmlsZQ%3D%3D?line=1'>2</a>\u001b[0m     \u001b[39mreturn\u001b[39;00m \u001b[39mset\u001b[39m([row[col] \u001b[39mfor\u001b[39;00m row \u001b[39min\u001b[39;00m dataset])\n",
      "\u001b[1;32mc:\\College\\ML Lab\\lab4b.ipynb Cell 24\u001b[0m in \u001b[0;36m<listcomp>\u001b[1;34m(.0)\u001b[0m\n\u001b[0;32m      <a href='vscode-notebook-cell:/c%3A/College/ML%20Lab/lab4b.ipynb#X63sZmlsZQ%3D%3D?line=0'>1</a>\u001b[0m \u001b[39mdef\u001b[39;00m \u001b[39munique_vals\u001b[39m(dataset, col):\n\u001b[1;32m----> <a href='vscode-notebook-cell:/c%3A/College/ML%20Lab/lab4b.ipynb#X63sZmlsZQ%3D%3D?line=1'>2</a>\u001b[0m     \u001b[39mreturn\u001b[39;00m \u001b[39mset\u001b[39m([row[col] \u001b[39mfor\u001b[39;00m row \u001b[39min\u001b[39;00m dataset])\n",
      "\u001b[1;31mIndexError\u001b[0m: list index out of range"
     ]
    }
   ],
   "source": [
    "best_gain, best_index = find_best_split(data)\n",
    "print(best_gain)\n",
    "print(best_index)"
   ]
  }
 ],
 "metadata": {
  "kernelspec": {
   "display_name": "Python 3.8.8 64-bit",
   "language": "python",
   "name": "python3"
  },
  "language_info": {
   "codemirror_mode": {
    "name": "ipython",
    "version": 3
   },
   "file_extension": ".py",
   "mimetype": "text/x-python",
   "name": "python",
   "nbconvert_exporter": "python",
   "pygments_lexer": "ipython3",
   "version": "3.8.8"
  },
  "orig_nbformat": 4,
  "vscode": {
   "interpreter": {
    "hash": "a65b45e7d56d7c02634b407cb6b216c12087ac0dba301c167b935ceae1030994"
   }
  }
 },
 "nbformat": 4,
 "nbformat_minor": 2
}
