{
 "cells": [
  {
   "cell_type": "code",
   "execution_count": 61,
   "metadata": {},
   "outputs": [],
   "source": [
    "import pandas as pd\n",
    "import numpy as np\n",
    "import matplotlib.pyplot as plt"
   ]
  },
  {
   "cell_type": "code",
   "execution_count": 62,
   "metadata": {},
   "outputs": [],
   "source": [
    "data = pd.read_table(\"dat.txt\", delimiter = ',')\n",
    "x = data.col1\n",
    "y = data.col2"
   ]
  },
  {
   "cell_type": "code",
   "execution_count": 63,
   "metadata": {},
   "outputs": [],
   "source": [
    "x_bias = np.ones((len(x), 1))\n",
    "x = np.array(x)\n",
    "y = np.array(y)"
   ]
  },
  {
   "cell_type": "code",
   "execution_count": 64,
   "metadata": {},
   "outputs": [
    {
     "name": "stdout",
     "output_type": "stream",
     "text": [
      "(100,) (100, 1)\n"
     ]
    }
   ],
   "source": [
    "print(x.shape, x_bias.shape)"
   ]
  },
  {
   "cell_type": "code",
   "execution_count": 65,
   "metadata": {},
   "outputs": [],
   "source": [
    "x_new = np.reshape(x,(100, 1))"
   ]
  },
  {
   "cell_type": "code",
   "execution_count": 66,
   "metadata": {},
   "outputs": [
    {
     "data": {
      "text/plain": [
       "array([[ 1.        , 32.50234527],\n",
       "       [ 1.        , 53.42680403],\n",
       "       [ 1.        , 61.53035803],\n",
       "       [ 1.        , 47.47563963],\n",
       "       [ 1.        , 59.81320787],\n",
       "       [ 1.        , 55.14218841],\n",
       "       [ 1.        , 52.21179669],\n",
       "       [ 1.        , 39.29956669],\n",
       "       [ 1.        , 48.10504169],\n",
       "       [ 1.        , 52.55001444],\n",
       "       [ 1.        , 45.41973014],\n",
       "       [ 1.        , 54.35163488],\n",
       "       [ 1.        , 44.1640495 ],\n",
       "       [ 1.        , 58.16847072],\n",
       "       [ 1.        , 56.72720806],\n",
       "       [ 1.        , 48.95588857],\n",
       "       [ 1.        , 44.68719623],\n",
       "       [ 1.        , 60.29732685],\n",
       "       [ 1.        , 45.61864377],\n",
       "       [ 1.        , 38.81681754],\n",
       "       [ 1.        , 66.18981661],\n",
       "       [ 1.        , 65.41605175],\n",
       "       [ 1.        , 47.48120861],\n",
       "       [ 1.        , 41.57564262],\n",
       "       [ 1.        , 51.84518691],\n",
       "       [ 1.        , 59.37082201],\n",
       "       [ 1.        , 57.31000344],\n",
       "       [ 1.        , 63.61556125],\n",
       "       [ 1.        , 46.73761941],\n",
       "       [ 1.        , 50.55676015],\n",
       "       [ 1.        , 52.22399609],\n",
       "       [ 1.        , 35.56783005],\n",
       "       [ 1.        , 42.43647694],\n",
       "       [ 1.        , 58.16454011],\n",
       "       [ 1.        , 57.50444762],\n",
       "       [ 1.        , 45.44053073],\n",
       "       [ 1.        , 61.89622268],\n",
       "       [ 1.        , 33.09383174],\n",
       "       [ 1.        , 36.43600951],\n",
       "       [ 1.        , 37.67565486],\n",
       "       [ 1.        , 44.55560838],\n",
       "       [ 1.        , 43.31828263],\n",
       "       [ 1.        , 50.07314563],\n",
       "       [ 1.        , 43.87061265],\n",
       "       [ 1.        , 62.99748075],\n",
       "       [ 1.        , 32.66904376],\n",
       "       [ 1.        , 40.16689901],\n",
       "       [ 1.        , 53.57507753],\n",
       "       [ 1.        , 33.86421497],\n",
       "       [ 1.        , 64.70713867],\n",
       "       [ 1.        , 38.11982403],\n",
       "       [ 1.        , 44.50253806],\n",
       "       [ 1.        , 40.59953838],\n",
       "       [ 1.        , 41.72067636],\n",
       "       [ 1.        , 51.08863468],\n",
       "       [ 1.        , 55.0780959 ],\n",
       "       [ 1.        , 41.37772653],\n",
       "       [ 1.        , 62.49469743],\n",
       "       [ 1.        , 49.20388754],\n",
       "       [ 1.        , 41.10268519],\n",
       "       [ 1.        , 41.18201611],\n",
       "       [ 1.        , 50.18638949],\n",
       "       [ 1.        , 52.37844622],\n",
       "       [ 1.        , 50.13548549],\n",
       "       [ 1.        , 33.64470601],\n",
       "       [ 1.        , 39.55790122],\n",
       "       [ 1.        , 56.13038882],\n",
       "       [ 1.        , 57.36205213],\n",
       "       [ 1.        , 60.26921439],\n",
       "       [ 1.        , 35.67809389],\n",
       "       [ 1.        , 31.588117  ],\n",
       "       [ 1.        , 53.66093226],\n",
       "       [ 1.        , 46.68222865],\n",
       "       [ 1.        , 43.10782022],\n",
       "       [ 1.        , 70.34607562],\n",
       "       [ 1.        , 44.49285588],\n",
       "       [ 1.        , 57.5045333 ],\n",
       "       [ 1.        , 36.93007661],\n",
       "       [ 1.        , 55.80573336],\n",
       "       [ 1.        , 38.95476907],\n",
       "       [ 1.        , 56.9012147 ],\n",
       "       [ 1.        , 56.86890066],\n",
       "       [ 1.        , 34.3331247 ],\n",
       "       [ 1.        , 59.04974121],\n",
       "       [ 1.        , 57.78822399],\n",
       "       [ 1.        , 54.28232871],\n",
       "       [ 1.        , 51.0887199 ],\n",
       "       [ 1.        , 50.28283635],\n",
       "       [ 1.        , 44.21174175],\n",
       "       [ 1.        , 38.00548801],\n",
       "       [ 1.        , 32.94047994],\n",
       "       [ 1.        , 53.69163957],\n",
       "       [ 1.        , 68.76573427],\n",
       "       [ 1.        , 46.2309665 ],\n",
       "       [ 1.        , 68.31936082],\n",
       "       [ 1.        , 50.03017434],\n",
       "       [ 1.        , 49.23976534],\n",
       "       [ 1.        , 50.03957594],\n",
       "       [ 1.        , 48.14985889],\n",
       "       [ 1.        , 25.12848465]])"
      ]
     },
     "execution_count": 66,
     "metadata": {},
     "output_type": "execute_result"
    }
   ],
   "source": [
    "x_new = np.append(x_bias,x_new,axis=1)\n",
    "x_new"
   ]
  },
  {
   "cell_type": "code",
   "execution_count": 67,
   "metadata": {},
   "outputs": [
    {
     "name": "stdout",
     "output_type": "stream",
     "text": [
      "(2, 100) (100, 2)\n"
     ]
    }
   ],
   "source": [
    "x_transpose = np.transpose(x_new)\n",
    "print(x_transpose.shape, x_new.shape)"
   ]
  },
  {
   "cell_type": "code",
   "execution_count": 68,
   "metadata": {},
   "outputs": [
    {
     "data": {
      "text/plain": [
       "array([[1.00000000e+02, 4.89583415e+03],\n",
       "       [4.89583415e+03, 2.49096119e+05]])"
      ]
     },
     "execution_count": 68,
     "metadata": {},
     "output_type": "execute_result"
    }
   ],
   "source": [
    "transpose_dot_new = x_transpose.dot(x_new)\n",
    "transpose_dot_new"
   ]
  },
  {
   "cell_type": "code",
   "execution_count": 69,
   "metadata": {},
   "outputs": [
    {
     "data": {
      "text/plain": [
       "array([[ 2.64877549e-01, -5.20600864e-03],\n",
       "       [-5.20600864e-03,  1.06335478e-04]])"
      ]
     },
     "execution_count": 69,
     "metadata": {},
     "output_type": "execute_result"
    }
   ],
   "source": [
    "temp1 = np.linalg.inv(transpose_dot_new)\n",
    "temp1"
   ]
  },
  {
   "cell_type": "code",
   "execution_count": 70,
   "metadata": {},
   "outputs": [
    {
     "data": {
      "text/plain": [
       "(100,)"
      ]
     },
     "execution_count": 70,
     "metadata": {},
     "output_type": "execute_result"
    }
   ],
   "source": [
    "y.shape"
   ]
  },
  {
   "cell_type": "code",
   "execution_count": 72,
   "metadata": {},
   "outputs": [
    {
     "data": {
      "text/plain": [
       "array([  7273.50505537, 368535.14867955])"
      ]
     },
     "execution_count": 72,
     "metadata": {},
     "output_type": "execute_result"
    }
   ],
   "source": [
    "temp2 = x_transpose.dot(y)\n",
    "temp2"
   ]
  },
  {
   "cell_type": "code",
   "execution_count": 74,
   "metadata": {},
   "outputs": [
    {
     "data": {
      "text/plain": [
       "array([7.99102098, 1.32243102])"
      ]
     },
     "execution_count": 74,
     "metadata": {},
     "output_type": "execute_result"
    }
   ],
   "source": [
    "theta  = temp1.dot(temp2)\n",
    "theta"
   ]
  },
  {
   "cell_type": "code",
   "execution_count": 75,
   "metadata": {},
   "outputs": [
    {
     "name": "stdout",
     "output_type": "stream",
     "text": [
      "Intercept :  7.9910209822691876\n",
      "Slope :  1.3224310227553855\n"
     ]
    }
   ],
   "source": [
    "intercept = theta[0]\n",
    "slope = theta[1]\n",
    "print(\"Intercept : \", intercept)\n",
    "print(\"Slope : \", slope)"
   ]
  },
  {
   "cell_type": "code",
   "execution_count": 76,
   "metadata": {},
   "outputs": [
    {
     "data": {
      "text/plain": [
       "[<matplotlib.lines.Line2D at 0x15bacc2c610>]"
      ]
     },
     "execution_count": 76,
     "metadata": {},
     "output_type": "execute_result"
    },
    {
     "data": {
      "image/png": "[encoded data removed]",
      "text/plain": [
       "<Figure size 432x288 with 1 Axes>"
      ]
     },
     "metadata": {
      "needs_background": "light"
     },
     "output_type": "display_data"
    }
   ],
   "source": [
    "plt.scatter(x,y)\n",
    "plt.plot(x,slope*x+intercept, color=\"red\")"
   ]
  },
  {
   "cell_type": "code",
   "execution_count": 77,
   "metadata": {},
   "outputs": [],
   "source": [
    "def predict(inp, slope, intercept):\n",
    "    pred_value = slope*inp+intercept\n",
    "    return pred_value"
   ]
  },
  {
   "cell_type": "code",
   "execution_count": 78,
   "metadata": {},
   "outputs": [
    {
     "name": "stdout",
     "output_type": "stream",
     "text": [
      "11.958314050535344\n"
     ]
    }
   ],
   "source": [
    "print(predict(3,slope, intercept))"
   ]
  }
 ],
 "metadata": {
  "kernelspec": {
   "display_name": "Python 3.8.8 64-bit",
   "language": "python",
   "name": "python3"
  },
  "language_info": {
   "codemirror_mode": {
    "name": "ipython",
    "version": 3
   },
   "file_extension": ".py",
   "mimetype": "text/x-python",
   "name": "python",
   "nbconvert_exporter": "python",
   "pygments_lexer": "ipython3",
   "version": "3.8.8"
  },
  "orig_nbformat": 4,
  "vscode": {
   "interpreter": {
    "hash": "a65b45e7d56d7c02634b407cb6b216c12087ac0dba301c167b935ceae1030994"
   }
  }
 },
 "nbformat": 4,
 "nbformat_minor": 2
}
